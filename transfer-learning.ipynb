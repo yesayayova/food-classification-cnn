{
 "cells": [
  {
   "cell_type": "code",
   "execution_count": 66,
   "id": "46b1633e-188a-4dd1-9e3d-28dd8c8c288e",
   "metadata": {},
   "outputs": [],
   "source": [
    "import numpy as np\n",
    "import tensorflow as tf\n",
    "from tensorflow.keras.preprocessing.image import ImageDataGenerator\n",
    "from tensorflow.keras.optimizers import Adam, RMSprop, SGD\n",
    "from tensorflow.keras.layers import Dense, MaxPooling2D, Dropout, Conv2D, Flatten\n",
    "from tensorflow.keras.models import Sequential\n",
    "from tensorflow.keras.metrics import Precision, Accuracy\n",
    "from tensorflow.keras.callbacks import EarlyStopping"
   ]
  },
  {
   "cell_type": "code",
   "execution_count": 67,
   "id": "c7949e6f-3a55-43a0-bfd2-ca9abc41c520",
   "metadata": {},
   "outputs": [
    {
     "name": "stdout",
     "output_type": "stream",
     "text": [
      "Num GPUs Avaible:  1\n"
     ]
    }
   ],
   "source": [
    "print(\"Num GPUs Avaible: \", len(tf.config.list_physical_devices('GPU')))"
   ]
  },
  {
   "cell_type": "code",
   "execution_count": 68,
   "id": "fa700f09-9d70-4cf8-81ff-ee563da9bb11",
   "metadata": {},
   "outputs": [],
   "source": [
    "# menentukan direktori dari dataset training dan validation yang digunakan\n",
    "train_dir = 'dataset/train'\n",
    "valid_dir = 'dataset/valid'\n",
    "test_dir = 'dataset/test'"
   ]
  },
  {
   "cell_type": "code",
   "execution_count": 79,
   "id": "bae1d66a-8d12-4b2d-bf0f-77bf9a09fd97",
   "metadata": {},
   "outputs": [],
   "source": [
    "# menentukan ukuran gambar pada proses training\n",
    "# artinya setiap gambar pada dataset akan diubah ukurannya menjadi ke sebuah ukuran\n",
    "# yang telah ditentukan\n",
    "img_width, img_height, channel = (224, 224, 3)"
   ]
  },
  {
   "cell_type": "code",
   "execution_count": 70,
   "id": "2fbf203d-0b81-490d-b254-fef9d85159b6",
   "metadata": {},
   "outputs": [
    {
     "name": "stdout",
     "output_type": "stream",
     "text": [
      "Found 7274 images belonging to 5 classes.\n"
     ]
    }
   ],
   "source": [
    "train_datagen = ImageDataGenerator(\n",
    "    rescale = 1./255,\n",
    "    horizontal_flip=True,\n",
    "    vertical_flip=True,\n",
    "    zoom_range=0.2,\n",
    ")\n",
    "\n",
    "train_data = train_datagen.flow_from_directory(\n",
    "    train_dir,\n",
    "    target_size = (img_width, img_height),\n",
    "    batch_size = 16,\n",
    "    class_mode = 'categorical'\n",
    ")"
   ]
  },
  {
   "cell_type": "code",
   "execution_count": 86,
   "id": "90a5fe8c-3e27-45aa-84e6-6e81edffe732",
   "metadata": {},
   "outputs": [
    {
     "data": {
      "text/plain": [
       "{'bakso': 0, 'gado': 1, 'gudeg': 2, 'rendang': 3, 'sate': 4}"
      ]
     },
     "execution_count": 86,
     "metadata": {},
     "output_type": "execute_result"
    }
   ],
   "source": [
    "train_data.class_indices"
   ]
  },
  {
   "cell_type": "code",
   "execution_count": 71,
   "id": "4b82c526-0a59-4c1c-9c22-c14bc2cb7f3a",
   "metadata": {},
   "outputs": [
    {
     "name": "stdout",
     "output_type": "stream",
     "text": [
      "Found 913 images belonging to 5 classes.\n"
     ]
    }
   ],
   "source": [
    "test_datagen = ImageDataGenerator(\n",
    "    rescale = 1./255\n",
    ")\n",
    "\n",
    "test_data = test_datagen.flow_from_directory(\n",
    "    test_dir,\n",
    "    target_size = (img_width, img_height),\n",
    "    batch_size = 16,\n",
    "    class_mode = 'categorical'\n",
    ")"
   ]
  },
  {
   "cell_type": "code",
   "execution_count": 72,
   "id": "5097d5a4-ca10-4607-a372-5f6c2350a0cf",
   "metadata": {},
   "outputs": [
    {
     "name": "stdout",
     "output_type": "stream",
     "text": [
      "Found 902 images belonging to 5 classes.\n"
     ]
    }
   ],
   "source": [
    "valid_datagen = ImageDataGenerator(\n",
    "    rescale = 1./255\n",
    ")\n",
    "\n",
    "valid_data = valid_datagen.flow_from_directory(\n",
    "    valid_dir,\n",
    "    target_size=(img_width, img_width),\n",
    "    batch_size=16,\n",
    "    class_mode='categorical'\n",
    ")"
   ]
  },
  {
   "cell_type": "code",
   "execution_count": 80,
   "id": "ec585395-4b04-44ec-8176-ef142f61097e",
   "metadata": {},
   "outputs": [],
   "source": [
    "from tensorflow.keras.applications import VGG19\n",
    "from tensorflow.keras.applications import MobileNet\n",
    "\n",
    "# base_model = VGG19(\n",
    "#     input_shape=(img_width, img_height, channel),\n",
    "#     include_top=False,\n",
    "#     weights='imagenet'\n",
    "# )\n",
    "base_model = MobileNet(\n",
    "    input_shape=(img_width, img_height, 3),\n",
    "    include_top=False,\n",
    "    weights='imagenet'\n",
    ")\n",
    "\n",
    "for layer in base_model.layers:\n",
    "    layer.trainable = False"
   ]
  },
  {
   "cell_type": "code",
   "execution_count": 81,
   "id": "f8e8a830-a8b5-4bb8-ad45-afdd748e7b3a",
   "metadata": {},
   "outputs": [
    {
     "name": "stdout",
     "output_type": "stream",
     "text": [
      "Model: \"model_6\"\n",
      "_________________________________________________________________\n",
      "Layer (type)                 Output Shape              Param #   \n",
      "=================================================================\n",
      "input_9 (InputLayer)         [(None, 224, 224, 3)]     0         \n",
      "_________________________________________________________________\n",
      "conv1 (Conv2D)               (None, 112, 112, 32)      864       \n",
      "_________________________________________________________________\n",
      "conv1_bn (BatchNormalization (None, 112, 112, 32)      128       \n",
      "_________________________________________________________________\n",
      "conv1_relu (ReLU)            (None, 112, 112, 32)      0         \n",
      "_________________________________________________________________\n",
      "conv_dw_1 (DepthwiseConv2D)  (None, 112, 112, 32)      288       \n",
      "_________________________________________________________________\n",
      "conv_dw_1_bn (BatchNormaliza (None, 112, 112, 32)      128       \n",
      "_________________________________________________________________\n",
      "conv_dw_1_relu (ReLU)        (None, 112, 112, 32)      0         \n",
      "_________________________________________________________________\n",
      "conv_pw_1 (Conv2D)           (None, 112, 112, 64)      2048      \n",
      "_________________________________________________________________\n",
      "conv_pw_1_bn (BatchNormaliza (None, 112, 112, 64)      256       \n",
      "_________________________________________________________________\n",
      "conv_pw_1_relu (ReLU)        (None, 112, 112, 64)      0         \n",
      "_________________________________________________________________\n",
      "conv_pad_2 (ZeroPadding2D)   (None, 113, 113, 64)      0         \n",
      "_________________________________________________________________\n",
      "conv_dw_2 (DepthwiseConv2D)  (None, 56, 56, 64)        576       \n",
      "_________________________________________________________________\n",
      "conv_dw_2_bn (BatchNormaliza (None, 56, 56, 64)        256       \n",
      "_________________________________________________________________\n",
      "conv_dw_2_relu (ReLU)        (None, 56, 56, 64)        0         \n",
      "_________________________________________________________________\n",
      "conv_pw_2 (Conv2D)           (None, 56, 56, 128)       8192      \n",
      "_________________________________________________________________\n",
      "conv_pw_2_bn (BatchNormaliza (None, 56, 56, 128)       512       \n",
      "_________________________________________________________________\n",
      "conv_pw_2_relu (ReLU)        (None, 56, 56, 128)       0         \n",
      "_________________________________________________________________\n",
      "conv_dw_3 (DepthwiseConv2D)  (None, 56, 56, 128)       1152      \n",
      "_________________________________________________________________\n",
      "conv_dw_3_bn (BatchNormaliza (None, 56, 56, 128)       512       \n",
      "_________________________________________________________________\n",
      "conv_dw_3_relu (ReLU)        (None, 56, 56, 128)       0         \n",
      "_________________________________________________________________\n",
      "conv_pw_3 (Conv2D)           (None, 56, 56, 128)       16384     \n",
      "_________________________________________________________________\n",
      "conv_pw_3_bn (BatchNormaliza (None, 56, 56, 128)       512       \n",
      "_________________________________________________________________\n",
      "conv_pw_3_relu (ReLU)        (None, 56, 56, 128)       0         \n",
      "_________________________________________________________________\n",
      "conv_pad_4 (ZeroPadding2D)   (None, 57, 57, 128)       0         \n",
      "_________________________________________________________________\n",
      "conv_dw_4 (DepthwiseConv2D)  (None, 28, 28, 128)       1152      \n",
      "_________________________________________________________________\n",
      "conv_dw_4_bn (BatchNormaliza (None, 28, 28, 128)       512       \n",
      "_________________________________________________________________\n",
      "conv_dw_4_relu (ReLU)        (None, 28, 28, 128)       0         \n",
      "_________________________________________________________________\n",
      "conv_pw_4 (Conv2D)           (None, 28, 28, 256)       32768     \n",
      "_________________________________________________________________\n",
      "conv_pw_4_bn (BatchNormaliza (None, 28, 28, 256)       1024      \n",
      "_________________________________________________________________\n",
      "conv_pw_4_relu (ReLU)        (None, 28, 28, 256)       0         \n",
      "_________________________________________________________________\n",
      "conv_dw_5 (DepthwiseConv2D)  (None, 28, 28, 256)       2304      \n",
      "_________________________________________________________________\n",
      "conv_dw_5_bn (BatchNormaliza (None, 28, 28, 256)       1024      \n",
      "_________________________________________________________________\n",
      "conv_dw_5_relu (ReLU)        (None, 28, 28, 256)       0         \n",
      "_________________________________________________________________\n",
      "conv_pw_5 (Conv2D)           (None, 28, 28, 256)       65536     \n",
      "_________________________________________________________________\n",
      "conv_pw_5_bn (BatchNormaliza (None, 28, 28, 256)       1024      \n",
      "_________________________________________________________________\n",
      "conv_pw_5_relu (ReLU)        (None, 28, 28, 256)       0         \n",
      "_________________________________________________________________\n",
      "conv_pad_6 (ZeroPadding2D)   (None, 29, 29, 256)       0         \n",
      "_________________________________________________________________\n",
      "conv_dw_6 (DepthwiseConv2D)  (None, 14, 14, 256)       2304      \n",
      "_________________________________________________________________\n",
      "conv_dw_6_bn (BatchNormaliza (None, 14, 14, 256)       1024      \n",
      "_________________________________________________________________\n",
      "conv_dw_6_relu (ReLU)        (None, 14, 14, 256)       0         \n",
      "_________________________________________________________________\n",
      "conv_pw_6 (Conv2D)           (None, 14, 14, 512)       131072    \n",
      "_________________________________________________________________\n",
      "conv_pw_6_bn (BatchNormaliza (None, 14, 14, 512)       2048      \n",
      "_________________________________________________________________\n",
      "conv_pw_6_relu (ReLU)        (None, 14, 14, 512)       0         \n",
      "_________________________________________________________________\n",
      "conv_dw_7 (DepthwiseConv2D)  (None, 14, 14, 512)       4608      \n",
      "_________________________________________________________________\n",
      "conv_dw_7_bn (BatchNormaliza (None, 14, 14, 512)       2048      \n",
      "_________________________________________________________________\n",
      "conv_dw_7_relu (ReLU)        (None, 14, 14, 512)       0         \n",
      "_________________________________________________________________\n",
      "conv_pw_7 (Conv2D)           (None, 14, 14, 512)       262144    \n",
      "_________________________________________________________________\n",
      "conv_pw_7_bn (BatchNormaliza (None, 14, 14, 512)       2048      \n",
      "_________________________________________________________________\n",
      "conv_pw_7_relu (ReLU)        (None, 14, 14, 512)       0         \n",
      "_________________________________________________________________\n",
      "conv_dw_8 (DepthwiseConv2D)  (None, 14, 14, 512)       4608      \n",
      "_________________________________________________________________\n",
      "conv_dw_8_bn (BatchNormaliza (None, 14, 14, 512)       2048      \n",
      "_________________________________________________________________\n",
      "conv_dw_8_relu (ReLU)        (None, 14, 14, 512)       0         \n",
      "_________________________________________________________________\n",
      "conv_pw_8 (Conv2D)           (None, 14, 14, 512)       262144    \n",
      "_________________________________________________________________\n",
      "conv_pw_8_bn (BatchNormaliza (None, 14, 14, 512)       2048      \n",
      "_________________________________________________________________\n",
      "conv_pw_8_relu (ReLU)        (None, 14, 14, 512)       0         \n",
      "_________________________________________________________________\n",
      "conv_dw_9 (DepthwiseConv2D)  (None, 14, 14, 512)       4608      \n",
      "_________________________________________________________________\n",
      "conv_dw_9_bn (BatchNormaliza (None, 14, 14, 512)       2048      \n",
      "_________________________________________________________________\n",
      "conv_dw_9_relu (ReLU)        (None, 14, 14, 512)       0         \n",
      "_________________________________________________________________\n",
      "conv_pw_9 (Conv2D)           (None, 14, 14, 512)       262144    \n",
      "_________________________________________________________________\n",
      "conv_pw_9_bn (BatchNormaliza (None, 14, 14, 512)       2048      \n",
      "_________________________________________________________________\n",
      "conv_pw_9_relu (ReLU)        (None, 14, 14, 512)       0         \n",
      "_________________________________________________________________\n",
      "conv_dw_10 (DepthwiseConv2D) (None, 14, 14, 512)       4608      \n",
      "_________________________________________________________________\n",
      "conv_dw_10_bn (BatchNormaliz (None, 14, 14, 512)       2048      \n",
      "_________________________________________________________________\n",
      "conv_dw_10_relu (ReLU)       (None, 14, 14, 512)       0         \n",
      "_________________________________________________________________\n",
      "conv_pw_10 (Conv2D)          (None, 14, 14, 512)       262144    \n",
      "_________________________________________________________________\n",
      "conv_pw_10_bn (BatchNormaliz (None, 14, 14, 512)       2048      \n",
      "_________________________________________________________________\n",
      "conv_pw_10_relu (ReLU)       (None, 14, 14, 512)       0         \n",
      "_________________________________________________________________\n",
      "conv_dw_11 (DepthwiseConv2D) (None, 14, 14, 512)       4608      \n",
      "_________________________________________________________________\n",
      "conv_dw_11_bn (BatchNormaliz (None, 14, 14, 512)       2048      \n",
      "_________________________________________________________________\n",
      "conv_dw_11_relu (ReLU)       (None, 14, 14, 512)       0         \n",
      "_________________________________________________________________\n",
      "conv_pw_11 (Conv2D)          (None, 14, 14, 512)       262144    \n",
      "_________________________________________________________________\n",
      "conv_pw_11_bn (BatchNormaliz (None, 14, 14, 512)       2048      \n",
      "_________________________________________________________________\n",
      "conv_pw_11_relu (ReLU)       (None, 14, 14, 512)       0         \n",
      "_________________________________________________________________\n",
      "conv_pad_12 (ZeroPadding2D)  (None, 15, 15, 512)       0         \n",
      "_________________________________________________________________\n",
      "conv_dw_12 (DepthwiseConv2D) (None, 7, 7, 512)         4608      \n",
      "_________________________________________________________________\n",
      "conv_dw_12_bn (BatchNormaliz (None, 7, 7, 512)         2048      \n",
      "_________________________________________________________________\n",
      "conv_dw_12_relu (ReLU)       (None, 7, 7, 512)         0         \n",
      "_________________________________________________________________\n",
      "conv_pw_12 (Conv2D)          (None, 7, 7, 1024)        524288    \n",
      "_________________________________________________________________\n",
      "conv_pw_12_bn (BatchNormaliz (None, 7, 7, 1024)        4096      \n",
      "_________________________________________________________________\n",
      "conv_pw_12_relu (ReLU)       (None, 7, 7, 1024)        0         \n",
      "_________________________________________________________________\n",
      "conv_dw_13 (DepthwiseConv2D) (None, 7, 7, 1024)        9216      \n",
      "_________________________________________________________________\n",
      "conv_dw_13_bn (BatchNormaliz (None, 7, 7, 1024)        4096      \n",
      "_________________________________________________________________\n",
      "conv_dw_13_relu (ReLU)       (None, 7, 7, 1024)        0         \n",
      "_________________________________________________________________\n",
      "conv_pw_13 (Conv2D)          (None, 7, 7, 1024)        1048576   \n",
      "_________________________________________________________________\n",
      "conv_pw_13_bn (BatchNormaliz (None, 7, 7, 1024)        4096      \n",
      "_________________________________________________________________\n",
      "conv_pw_13_relu (ReLU)       (None, 7, 7, 1024)        0         \n",
      "_________________________________________________________________\n",
      "global_average_pooling2d_5 ( (None, 1024)              0         \n",
      "_________________________________________________________________\n",
      "dense_33 (Dense)             (None, 64)                65600     \n",
      "_________________________________________________________________\n",
      "dense_34 (Dense)             (None, 256)               16640     \n",
      "_________________________________________________________________\n",
      "dropout_11 (Dropout)         (None, 256)               0         \n",
      "_________________________________________________________________\n",
      "dense_35 (Dense)             (None, 5)                 1285      \n",
      "=================================================================\n",
      "Total params: 3,312,389\n",
      "Trainable params: 83,525\n",
      "Non-trainable params: 3,228,864\n",
      "_________________________________________________________________\n"
     ]
    }
   ],
   "source": [
    "x = tf.keras.layers.GlobalAveragePooling2D()(base_model.output)\n",
    "x = tf.keras.layers.Dense(64, activation='relu')(x)\n",
    "x = tf.keras.layers.Dense(256, activation='relu')(x)\n",
    "x = tf.keras.layers.Dropout(0.2)(x)\n",
    "x = tf.keras.layers.Dense(5, activation='softmax')(x)\n",
    "\n",
    "model = tf.keras.Model(inputs=base_model.input, outputs=x)\n",
    "model.summary()"
   ]
  },
  {
   "cell_type": "code",
   "execution_count": 82,
   "id": "d08acae3-2801-43c4-b415-6b0069f57dd3",
   "metadata": {},
   "outputs": [],
   "source": [
    "from tensorflow.keras.metrics import Recall, Precision\n",
    "\n",
    "model.compile(\n",
    "    optimizer=Adam(learning_rate=0.001),\n",
    "    loss='categorical_crossentropy',\n",
    "    metrics= [Recall(), Precision(), \"accuracy\"]\n",
    ")"
   ]
  },
  {
   "cell_type": "code",
   "execution_count": 83,
   "id": "b99853bf-c045-4762-b9c1-6c92ded5f7b7",
   "metadata": {},
   "outputs": [
    {
     "name": "stdout",
     "output_type": "stream",
     "text": [
      "Epoch 1/30\n",
      "50/50 [==============================] - 11s 184ms/step - loss: 0.8492 - recall_6: 0.5387 - precision_6: 0.8163 - accuracy: 0.6725 - val_loss: 0.4390 - val_recall_6: 0.8060 - val_precision_6: 0.8844 - val_accuracy: 0.8503\n",
      "Epoch 2/30\n",
      "50/50 [==============================] - 9s 172ms/step - loss: 0.4056 - recall_6: 0.8375 - precision_6: 0.8785 - accuracy: 0.8615 - val_loss: 0.3877 - val_recall_6: 0.8271 - val_precision_6: 0.8818 - val_accuracy: 0.8548\n",
      "Epoch 3/30\n",
      "50/50 [==============================] - 8s 167ms/step - loss: 0.3370 - recall_6: 0.8662 - precision_6: 0.8988 - accuracy: 0.8800 - val_loss: 0.2788 - val_recall_6: 0.8792 - val_precision_6: 0.9053 - val_accuracy: 0.8902\n",
      "Epoch 4/30\n",
      "50/50 [==============================] - 8s 166ms/step - loss: 0.3064 - recall_6: 0.8813 - precision_6: 0.9120 - accuracy: 0.8950 - val_loss: 0.2714 - val_recall_6: 0.8925 - val_precision_6: 0.9158 - val_accuracy: 0.9080\n",
      "Epoch 5/30\n",
      "50/50 [==============================] - 8s 170ms/step - loss: 0.2539 - recall_6: 0.9062 - precision_6: 0.9307 - accuracy: 0.9212 - val_loss: 0.2955 - val_recall_6: 0.8814 - val_precision_6: 0.9138 - val_accuracy: 0.8958\n",
      "Epoch 6/30\n",
      "50/50 [==============================] - 11s 219ms/step - loss: 0.2868 - recall_6: 0.8975 - precision_6: 0.9253 - accuracy: 0.9125 - val_loss: 0.2422 - val_recall_6: 0.9047 - val_precision_6: 0.9294 - val_accuracy: 0.9146\n",
      "Epoch 7/30\n",
      "50/50 [==============================] - 9s 186ms/step - loss: 0.1931 - recall_6: 0.9162 - precision_6: 0.9373 - accuracy: 0.9262 - val_loss: 0.2787 - val_recall_6: 0.8914 - val_precision_6: 0.9074 - val_accuracy: 0.8969\n",
      "Epoch 8/30\n",
      "50/50 [==============================] - 8s 166ms/step - loss: 0.2263 - recall_6: 0.9112 - precision_6: 0.9334 - accuracy: 0.9200 - val_loss: 0.2781 - val_recall_6: 0.8936 - val_precision_6: 0.9087 - val_accuracy: 0.9024\n",
      "Epoch 9/30\n",
      "50/50 [==============================] - 8s 167ms/step - loss: 0.1818 - recall_6: 0.9250 - precision_6: 0.9391 - accuracy: 0.9325 - val_loss: 0.2444 - val_recall_6: 0.9013 - val_precision_6: 0.9094 - val_accuracy: 0.9080\n",
      "Epoch 10/30\n",
      "50/50 [==============================] - 10s 198ms/step - loss: 0.2181 - recall_6: 0.9262 - precision_6: 0.9404 - accuracy: 0.9325 - val_loss: 0.2952 - val_recall_6: 0.8880 - val_precision_6: 0.9030 - val_accuracy: 0.8969\n",
      "Epoch 11/30\n",
      "50/50 [==============================] - 9s 177ms/step - loss: 0.2605 - recall_6: 0.9050 - precision_6: 0.9223 - accuracy: 0.9150 - val_loss: 0.2394 - val_recall_6: 0.9102 - val_precision_6: 0.9351 - val_accuracy: 0.9202\n",
      "Epoch 12/30\n",
      "50/50 [==============================] - 9s 173ms/step - loss: 0.2042 - recall_6: 0.9144 - precision_6: 0.9332 - accuracy: 0.9244 - val_loss: 0.3552 - val_recall_6: 0.8581 - val_precision_6: 0.8969 - val_accuracy: 0.8747\n",
      "Epoch 00012: early stopping\n"
     ]
    }
   ],
   "source": [
    "model_callback = EarlyStopping(\n",
    "    monitor = 'loss',\n",
    "    verbose = 1,\n",
    "    mode = 'min',\n",
    "    patience= 3\n",
    ")\n",
    "\n",
    "history = model.fit(\n",
    "    train_data,\n",
    "    validation_data=valid_data,\n",
    "    epochs=30,\n",
    "    steps_per_epoch=50,\n",
    "    callbacks = [model_callback],\n",
    "    verbose=1\n",
    ")"
   ]
  },
  {
   "cell_type": "code",
   "execution_count": 58,
   "id": "7f90f805-f0a9-44eb-ba4c-3d5cac1c3e18",
   "metadata": {},
   "outputs": [
    {
     "name": "stdout",
     "output_type": "stream",
     "text": [
      "58/58 [==============================] - 6s 98ms/step - loss: 0.4875 - recall_5: 0.7919 - precision_5: 0.8597 - accuracy: 0.8182\n"
     ]
    },
    {
     "data": {
      "text/plain": [
       "[0.4874841272830963,\n",
       " 0.7918948531150818,\n",
       " 0.8596908450126648,\n",
       " 0.8181818127632141]"
      ]
     },
     "execution_count": 58,
     "metadata": {},
     "output_type": "execute_result"
    }
   ],
   "source": [
    "model.evaluate(test_data)"
   ]
  },
  {
   "cell_type": "code",
   "execution_count": 84,
   "id": "3cc92441-cd14-46df-a41f-536939f20821",
   "metadata": {},
   "outputs": [],
   "source": [
    "model.save('model_mobilenet_acc81.h5')"
   ]
  },
  {
   "cell_type": "code",
   "execution_count": 59,
   "id": "f662c352-f039-4f30-985f-89b86ae22b47",
   "metadata": {},
   "outputs": [
    {
     "name": "stdout",
     "output_type": "stream",
     "text": [
      "Number of layers :  22\n"
     ]
    }
   ],
   "source": [
    "base_model.trainable = True\n",
    "\n",
    "print('Number of layers : ', len(base_model.layers))\n",
    "\n",
    "fine_tune_at = 15\n",
    "\n",
    "for layer in base_model.layers[:fine_tune_at]:\n",
    "    layer.trainable = False"
   ]
  },
  {
   "cell_type": "code",
   "execution_count": 60,
   "id": "b808e1c3-1cec-49eb-89f3-93047b96e7a9",
   "metadata": {},
   "outputs": [
    {
     "name": "stdout",
     "output_type": "stream",
     "text": [
      "Model: \"model_4\"\n",
      "_________________________________________________________________\n",
      "Layer (type)                 Output Shape              Param #   \n",
      "=================================================================\n",
      "input_3 (InputLayer)         [(None, 220, 220, 3)]     0         \n",
      "_________________________________________________________________\n",
      "block1_conv1 (Conv2D)        (None, 220, 220, 64)      1792      \n",
      "_________________________________________________________________\n",
      "block1_conv2 (Conv2D)        (None, 220, 220, 64)      36928     \n",
      "_________________________________________________________________\n",
      "block1_pool (MaxPooling2D)   (None, 110, 110, 64)      0         \n",
      "_________________________________________________________________\n",
      "block2_conv1 (Conv2D)        (None, 110, 110, 128)     73856     \n",
      "_________________________________________________________________\n",
      "block2_conv2 (Conv2D)        (None, 110, 110, 128)     147584    \n",
      "_________________________________________________________________\n",
      "block2_pool (MaxPooling2D)   (None, 55, 55, 128)       0         \n",
      "_________________________________________________________________\n",
      "block3_conv1 (Conv2D)        (None, 55, 55, 256)       295168    \n",
      "_________________________________________________________________\n",
      "block3_conv2 (Conv2D)        (None, 55, 55, 256)       590080    \n",
      "_________________________________________________________________\n",
      "block3_conv3 (Conv2D)        (None, 55, 55, 256)       590080    \n",
      "_________________________________________________________________\n",
      "block3_conv4 (Conv2D)        (None, 55, 55, 256)       590080    \n",
      "_________________________________________________________________\n",
      "block3_pool (MaxPooling2D)   (None, 27, 27, 256)       0         \n",
      "_________________________________________________________________\n",
      "block4_conv1 (Conv2D)        (None, 27, 27, 512)       1180160   \n",
      "_________________________________________________________________\n",
      "block4_conv2 (Conv2D)        (None, 27, 27, 512)       2359808   \n",
      "_________________________________________________________________\n",
      "block4_conv3 (Conv2D)        (None, 27, 27, 512)       2359808   \n",
      "_________________________________________________________________\n",
      "block4_conv4 (Conv2D)        (None, 27, 27, 512)       2359808   \n",
      "_________________________________________________________________\n",
      "block4_pool (MaxPooling2D)   (None, 13, 13, 512)       0         \n",
      "_________________________________________________________________\n",
      "block5_conv1 (Conv2D)        (None, 13, 13, 512)       2359808   \n",
      "_________________________________________________________________\n",
      "block5_conv2 (Conv2D)        (None, 13, 13, 512)       2359808   \n",
      "_________________________________________________________________\n",
      "block5_conv3 (Conv2D)        (None, 13, 13, 512)       2359808   \n",
      "_________________________________________________________________\n",
      "block5_conv4 (Conv2D)        (None, 13, 13, 512)       2359808   \n",
      "_________________________________________________________________\n",
      "block5_pool (MaxPooling2D)   (None, 6, 6, 512)         0         \n",
      "_________________________________________________________________\n",
      "global_average_pooling2d_3 ( (None, 512)               0         \n",
      "_________________________________________________________________\n",
      "dense_27 (Dense)             (None, 64)                32832     \n",
      "_________________________________________________________________\n",
      "dense_28 (Dense)             (None, 256)               16640     \n",
      "_________________________________________________________________\n",
      "dropout_9 (Dropout)          (None, 256)               0         \n",
      "_________________________________________________________________\n",
      "dense_29 (Dense)             (None, 5)                 1285      \n",
      "=================================================================\n",
      "Total params: 20,075,141\n",
      "Trainable params: 11,849,797\n",
      "Non-trainable params: 8,225,344\n",
      "_________________________________________________________________\n"
     ]
    }
   ],
   "source": [
    "model.summary()"
   ]
  },
  {
   "cell_type": "code",
   "execution_count": 63,
   "id": "446cea88-c426-404a-abbf-fe7b863ad158",
   "metadata": {},
   "outputs": [],
   "source": [
    "model.compile(\n",
    "    loss='categorical_crossentropy',\n",
    "    optimizer=Adam(learning_rate=0.01),\n",
    "    metrics= [\"accuracy\"]\n",
    ")"
   ]
  },
  {
   "cell_type": "code",
   "execution_count": 64,
   "id": "b28bc0d8-b457-40d8-872d-a0dfb7b8fa1e",
   "metadata": {},
   "outputs": [
    {
     "name": "stdout",
     "output_type": "stream",
     "text": [
      "Epoch 14/40\n",
      "50/50 [==============================] - 13s 242ms/step - loss: 49.3883 - accuracy: 0.2500 - val_loss: 1.5494 - val_accuracy: 0.2373\n",
      "Epoch 15/40\n",
      "50/50 [==============================] - 13s 267ms/step - loss: 16.2941 - accuracy: 0.2292 - val_loss: 1.5296 - val_accuracy: 0.2417\n",
      "Epoch 16/40\n",
      "50/50 [==============================] - 12s 244ms/step - loss: 1.5468 - accuracy: 0.2305 - val_loss: 1.5228 - val_accuracy: 0.2417\n",
      "Epoch 17/40\n",
      "50/50 [==============================] - 14s 279ms/step - loss: 1.5081 - accuracy: 0.2350 - val_loss: 1.5204 - val_accuracy: 0.2317\n",
      "Epoch 18/40\n",
      "50/50 [==============================] - 12s 246ms/step - loss: 1.5289 - accuracy: 0.2475 - val_loss: 1.5215 - val_accuracy: 0.2317\n",
      "Epoch 19/40\n",
      "50/50 [==============================] - 14s 283ms/step - loss: 1.5563 - accuracy: 0.2087 - val_loss: 1.5219 - val_accuracy: 0.2417\n",
      "Epoch 20/40\n",
      "50/50 [==============================] - 12s 246ms/step - loss: 1.5365 - accuracy: 0.2300 - val_loss: 1.5232 - val_accuracy: 0.2317\n",
      "Epoch 00020: early stopping\n"
     ]
    }
   ],
   "source": [
    "model_callback = EarlyStopping(\n",
    "    monitor = 'loss',\n",
    "    verbose = 1,\n",
    "    mode = 'min',\n",
    "    patience= 3\n",
    ")\n",
    "\n",
    "history_fine = model.fit(\n",
    "    train_data,\n",
    "    validation_data=valid_data,\n",
    "    epochs=40,\n",
    "    initial_epoch=history.epoch[-1],\n",
    "    steps_per_epoch=50,\n",
    "    callbacks = [model_callback],\n",
    "    verbose=1\n",
    ")"
   ]
  },
  {
   "cell_type": "code",
   "execution_count": null,
   "id": "4d0fbb58-1010-4fc0-9f04-ca7c3c1cfeca",
   "metadata": {},
   "outputs": [],
   "source": []
  }
 ],
 "metadata": {
  "kernelspec": {
   "display_name": "Python 3 (ipykernel)",
   "language": "python",
   "name": "python3"
  },
  "language_info": {
   "codemirror_mode": {
    "name": "ipython",
    "version": 3
   },
   "file_extension": ".py",
   "mimetype": "text/x-python",
   "name": "python",
   "nbconvert_exporter": "python",
   "pygments_lexer": "ipython3",
   "version": "3.9.0"
  }
 },
 "nbformat": 4,
 "nbformat_minor": 5
}
