{
 "cells": [
  {
   "cell_type": "code",
   "execution_count": 1,
   "id": "fd3bff7f",
   "metadata": {},
   "outputs": [],
   "source": [
    "import numpy as np\n",
    "import tensorflow as tf\n",
    "from tensorflow.keras.preprocessing.image import ImageDataGenerator\n",
    "from tensorflow.keras.optimizers import Adam, RMSprop, SGD\n",
    "from tensorflow.keras.layers import Dense, MaxPooling2D, Dropout, Conv2D, Flatten\n",
    "from tensorflow.keras.models import Sequential\n",
    "from tensorflow.keras.metrics import Precision, Accuracy\n",
    "from tensorflow.keras.callbacks import EarlyStopping"
   ]
  },
  {
   "cell_type": "code",
   "execution_count": 2,
   "id": "1bec0965-28f7-4492-b80f-3511b70cc859",
   "metadata": {},
   "outputs": [
    {
     "name": "stdout",
     "output_type": "stream",
     "text": [
      "Num GPUs Avaible:  1\n"
     ]
    }
   ],
   "source": [
    "print(\"Num GPUs Avaible: \", len(tf.config.list_physical_devices('GPU')))"
   ]
  },
  {
   "cell_type": "markdown",
   "id": "c5088c58",
   "metadata": {},
   "source": [
    "## Preprocessing Image"
   ]
  },
  {
   "cell_type": "code",
   "execution_count": 3,
   "id": "6869670b",
   "metadata": {},
   "outputs": [],
   "source": [
    "# menentukan direktori dari dataset training dan validation yang digunakan\n",
    "train_dir = 'dataset/train'\n",
    "valid_dir = 'dataset/valid'"
   ]
  },
  {
   "cell_type": "code",
   "execution_count": 4,
   "id": "23048e78",
   "metadata": {},
   "outputs": [],
   "source": [
    "# menentukan ukuran gambar pada proses training\n",
    "# artinya setiap gambar pada dataset akan diubah ukurannya menjadi ke sebuah ukuran\n",
    "# yang telah ditentukan\n",
    "img_width, img_height, channel = (220, 220, 3)"
   ]
  },
  {
   "cell_type": "code",
   "execution_count": 5,
   "id": "3ad2e92a",
   "metadata": {},
   "outputs": [
    {
     "name": "stdout",
     "output_type": "stream",
     "text": [
      "Found 7274 images belonging to 5 classes.\n"
     ]
    }
   ],
   "source": [
    "train_datagen = ImageDataGenerator(\n",
    "    rescale = 1./255,\n",
    "    horizontal_flip=True,\n",
    "    vertical_flip=True,\n",
    "    zoom_range=0.2,\n",
    ")\n",
    "\n",
    "train_data = train_datagen.flow_from_directory(\n",
    "    train_dir,\n",
    "    target_size = (img_width, img_height),\n",
    "    batch_size = 16,\n",
    "    class_mode = 'categorical'\n",
    ")"
   ]
  },
  {
   "cell_type": "code",
   "execution_count": 6,
   "id": "a26f4452",
   "metadata": {},
   "outputs": [
    {
     "name": "stdout",
     "output_type": "stream",
     "text": [
      "Found 902 images belonging to 5 classes.\n"
     ]
    }
   ],
   "source": [
    "valid_datagen = ImageDataGenerator(\n",
    "    rescale = 1./255\n",
    ")\n",
    "\n",
    "valid_data = valid_datagen.flow_from_directory(\n",
    "    valid_dir,\n",
    "    target_size=(img_width, img_width),\n",
    "    batch_size=16,\n",
    "    class_mode='categorical'\n",
    ")"
   ]
  },
  {
   "cell_type": "markdown",
   "id": "24658359",
   "metadata": {},
   "source": [
    "## Modelling"
   ]
  },
  {
   "cell_type": "code",
   "execution_count": 7,
   "id": "35d672db",
   "metadata": {},
   "outputs": [],
   "source": [
    "model = Sequential()\n",
    "model.add(Conv2D(16, (3, 3), activation='relu', input_shape=(img_width, img_height, channel)))\n",
    "model.add(MaxPooling2D(2, 2))\n",
    "model.add(Conv2D(32, (3, 3), activation='relu'))\n",
    "model.add(MaxPooling2D(2, 2))\n",
    "model.add(Conv2D(64, (3, 3), activation='relu'))\n",
    "model.add(MaxPooling2D(2, 2))\n",
    "model.add(Flatten())\n",
    "model.add(Dense(64, activation='relu'))\n",
    "model.add(Dense(256, activation='relu'))\n",
    "model.add(Dropout(0.3))\n",
    "model.add(Dense(5, activation='softmax'))"
   ]
  },
  {
   "cell_type": "code",
   "execution_count": 8,
   "id": "1ffa7cf4",
   "metadata": {},
   "outputs": [
    {
     "name": "stdout",
     "output_type": "stream",
     "text": [
      "Model: \"sequential\"\n",
      "_________________________________________________________________\n",
      "Layer (type)                 Output Shape              Param #   \n",
      "=================================================================\n",
      "conv2d (Conv2D)              (None, 218, 218, 16)      448       \n",
      "_________________________________________________________________\n",
      "max_pooling2d (MaxPooling2D) (None, 109, 109, 16)      0         \n",
      "_________________________________________________________________\n",
      "conv2d_1 (Conv2D)            (None, 107, 107, 32)      4640      \n",
      "_________________________________________________________________\n",
      "max_pooling2d_1 (MaxPooling2 (None, 53, 53, 32)        0         \n",
      "_________________________________________________________________\n",
      "conv2d_2 (Conv2D)            (None, 51, 51, 64)        18496     \n",
      "_________________________________________________________________\n",
      "max_pooling2d_2 (MaxPooling2 (None, 25, 25, 64)        0         \n",
      "_________________________________________________________________\n",
      "flatten (Flatten)            (None, 40000)             0         \n",
      "_________________________________________________________________\n",
      "dense (Dense)                (None, 64)                2560064   \n",
      "_________________________________________________________________\n",
      "dense_1 (Dense)              (None, 256)               16640     \n",
      "_________________________________________________________________\n",
      "dropout (Dropout)            (None, 256)               0         \n",
      "_________________________________________________________________\n",
      "dense_2 (Dense)              (None, 5)                 1285      \n",
      "=================================================================\n",
      "Total params: 2,601,573\n",
      "Trainable params: 2,601,573\n",
      "Non-trainable params: 0\n",
      "_________________________________________________________________\n"
     ]
    }
   ],
   "source": [
    "model.summary()"
   ]
  },
  {
   "cell_type": "code",
   "execution_count": 9,
   "id": "6e41f46f",
   "metadata": {},
   "outputs": [],
   "source": [
    "from tensorflow.keras.metrics import Recall, Precision\n",
    "\n",
    "model.compile(\n",
    "    optimizer=RMSprop(learning_rate=0.001),\n",
    "    loss='categorical_crossentropy',\n",
    "    metrics= [Recall(), Precision(), \"accuracy\"]\n",
    ")"
   ]
  },
  {
   "cell_type": "code",
   "execution_count": 10,
   "id": "7752153f",
   "metadata": {
    "scrolled": true
   },
   "outputs": [
    {
     "name": "stdout",
     "output_type": "stream",
     "text": [
      "Epoch 1/30\n",
      "50/50 [==============================] - 25s 284ms/step - loss: 1.5716 - recall: 0.0200 - precision: 0.3200 - accuracy: 0.3013 - val_loss: 2.1523 - val_recall: 0.2384 - val_precision: 0.2526 - val_accuracy: 0.2439\n",
      "Epoch 2/30\n",
      "50/50 [==============================] - 11s 226ms/step - loss: 1.3670 - recall: 0.1063 - precision: 0.4830 - accuracy: 0.4050 - val_loss: 1.2975 - val_recall: 0.3149 - val_precision: 0.4913 - val_accuracy: 0.4324\n",
      "Epoch 3/30\n",
      "50/50 [==============================] - 12s 233ms/step - loss: 1.2611 - recall: 0.2175 - precision: 0.5724 - accuracy: 0.4837 - val_loss: 1.1852 - val_recall: 0.3337 - val_precision: 0.5722 - val_accuracy: 0.5022\n",
      "Epoch 4/30\n",
      "50/50 [==============================] - 11s 227ms/step - loss: 1.1458 - recall: 0.3500 - precision: 0.6292 - accuracy: 0.5238 - val_loss: 1.2097 - val_recall: 0.3914 - val_precision: 0.5883 - val_accuracy: 0.5022\n",
      "Epoch 5/30\n",
      "50/50 [==============================] - 11s 224ms/step - loss: 1.1624 - recall: 0.3162 - precision: 0.6038 - accuracy: 0.5013 - val_loss: 1.0298 - val_recall: 0.3481 - val_precision: 0.7792 - val_accuracy: 0.5732\n",
      "Epoch 6/30\n",
      "50/50 [==============================] - 11s 222ms/step - loss: 1.1045 - recall: 0.3900 - precision: 0.6638 - accuracy: 0.5525 - val_loss: 0.9930 - val_recall: 0.4435 - val_precision: 0.6803 - val_accuracy: 0.5698\n",
      "Epoch 7/30\n",
      "50/50 [==============================] - 13s 253ms/step - loss: 1.0552 - recall: 0.4484 - precision: 0.6755 - accuracy: 0.5907 - val_loss: 0.9469 - val_recall: 0.4845 - val_precision: 0.7141 - val_accuracy: 0.6131\n",
      "Epoch 8/30\n",
      "50/50 [==============================] - 12s 232ms/step - loss: 1.0424 - recall: 0.4563 - precision: 0.6900 - accuracy: 0.5987 - val_loss: 1.0005 - val_recall: 0.4357 - val_precision: 0.6811 - val_accuracy: 0.6075\n",
      "Epoch 9/30\n",
      "50/50 [==============================] - 12s 234ms/step - loss: 1.0101 - recall: 0.4610 - precision: 0.6703 - accuracy: 0.5869 - val_loss: 0.8917 - val_recall: 0.5222 - val_precision: 0.7291 - val_accuracy: 0.6530\n",
      "Epoch 10/30\n",
      "50/50 [==============================] - 11s 227ms/step - loss: 0.9657 - recall: 0.5113 - precision: 0.7076 - accuracy: 0.6313 - val_loss: 0.8917 - val_recall: 0.4956 - val_precision: 0.7487 - val_accuracy: 0.6530\n",
      "Epoch 11/30\n",
      "50/50 [==============================] - 11s 224ms/step - loss: 0.9497 - recall: 0.5275 - precision: 0.7352 - accuracy: 0.6450 - val_loss: 0.8707 - val_recall: 0.5510 - val_precision: 0.7729 - val_accuracy: 0.6729\n",
      "Epoch 12/30\n",
      "50/50 [==============================] - 11s 228ms/step - loss: 0.8633 - recall: 0.5813 - precision: 0.7416 - accuracy: 0.6837 - val_loss: 0.9219 - val_recall: 0.4956 - val_precision: 0.7039 - val_accuracy: 0.6175\n",
      "Epoch 13/30\n",
      "50/50 [==============================] - 11s 228ms/step - loss: 0.8946 - recall: 0.5525 - precision: 0.7342 - accuracy: 0.6712 - val_loss: 0.7663 - val_recall: 0.5887 - val_precision: 0.7867 - val_accuracy: 0.7062\n",
      "Epoch 14/30\n",
      "50/50 [==============================] - 12s 231ms/step - loss: 0.8420 - recall: 0.5875 - precision: 0.7367 - accuracy: 0.6737 - val_loss: 0.7869 - val_recall: 0.6486 - val_precision: 0.7759 - val_accuracy: 0.7251\n",
      "Epoch 15/30\n",
      "50/50 [==============================] - 12s 231ms/step - loss: 0.8610 - recall: 0.5663 - precision: 0.7156 - accuracy: 0.6700 - val_loss: 0.9535 - val_recall: 0.6009 - val_precision: 0.7236 - val_accuracy: 0.6596\n",
      "Epoch 16/30\n",
      "50/50 [==============================] - 12s 230ms/step - loss: 0.8523 - recall: 0.5738 - precision: 0.7379 - accuracy: 0.6662 - val_loss: 1.0768 - val_recall: 0.5732 - val_precision: 0.6628 - val_accuracy: 0.6231\n",
      "Epoch 17/30\n",
      "50/50 [==============================] - 12s 229ms/step - loss: 0.8644 - recall: 0.6087 - precision: 0.7492 - accuracy: 0.6787 - val_loss: 0.8031 - val_recall: 0.5477 - val_precision: 0.8247 - val_accuracy: 0.7118\n",
      "Epoch 00017: early stopping\n"
     ]
    }
   ],
   "source": [
    "model_callback = EarlyStopping(\n",
    "    monitor = 'loss',\n",
    "    verbose = 1,\n",
    "    mode = 'min',\n",
    "    patience= 3\n",
    ")\n",
    "\n",
    "history = model.fit(\n",
    "    train_data,\n",
    "    validation_data=valid_data,\n",
    "    epochs=30,\n",
    "    steps_per_epoch=50,\n",
    "    callbacks = [model_callback],\n",
    "    verbose=1\n",
    ")"
   ]
  },
  {
   "cell_type": "code",
   "execution_count": 11,
   "id": "40750471",
   "metadata": {
    "scrolled": true
   },
   "outputs": [
    {
     "name": "stdout",
     "output_type": "stream",
     "text": [
      "57/57 [==============================] - 5s 79ms/step - loss: 0.8031 - recall: 0.5477 - precision: 0.8247 - accuracy: 0.7118\n"
     ]
    },
    {
     "data": {
      "text/plain": [
       "[0.8031172156333923,\n",
       " 0.5476718544960022,\n",
       " 0.8247078657150269,\n",
       " 0.7117516398429871]"
      ]
     },
     "execution_count": 11,
     "metadata": {},
     "output_type": "execute_result"
    }
   ],
   "source": [
    "model.evaluate(valid_data)"
   ]
  },
  {
   "cell_type": "code",
   "execution_count": 12,
   "id": "8cd5b082",
   "metadata": {},
   "outputs": [
    {
     "data": {
      "image/png": "[encoded data removed]",
      "text/plain": [
       "<Figure size 800x300 with 1 Axes>"
      ]
     },
     "metadata": {},
     "output_type": "display_data"
    }
   ],
   "source": [
    "import matplotlib.pyplot as plt\n",
    "\n",
    "plt.figure(figsize=(8, 3))\n",
    "plt.plot(history.epoch, history.history['loss'])\n",
    "plt.plot(history.epoch, history.history['val_loss'])\n",
    "plt.legend(['train loss', 'val loss'])\n",
    "plt.title('Loss Diagram')\n",
    "plt.xlabel('Epoch(s)')\n",
    "plt.ylabel('Loss')\n",
    "plt.show()"
   ]
  },
  {
   "cell_type": "code",
   "execution_count": 13,
   "id": "693e99a4-171e-475d-8da2-09f4512eb451",
   "metadata": {},
   "outputs": [],
   "source": [
    "model.save('model_acc_73.h5')"
   ]
  },
  {
   "cell_type": "code",
   "execution_count": null,
   "id": "ebe2e5d9-f532-474a-94fa-c54305a73eee",
   "metadata": {},
   "outputs": [],
   "source": []
  }
 ],
 "metadata": {
  "kernelspec": {
   "display_name": "Python 3 (ipykernel)",
   "language": "python",
   "name": "python3"
  },
  "language_info": {
   "codemirror_mode": {
    "name": "ipython",
    "version": 3
   },
   "file_extension": ".py",
   "mimetype": "text/x-python",
   "name": "python",
   "nbconvert_exporter": "python",
   "pygments_lexer": "ipython3",
   "version": "3.9.0"
  }
 },
 "nbformat": 4,
 "nbformat_minor": 5
}
